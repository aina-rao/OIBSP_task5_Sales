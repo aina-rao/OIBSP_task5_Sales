{
 "cells": [
  {
   "cell_type": "markdown",
   "id": "a75b5ce4",
   "metadata": {
    "_cell_guid": "b1076dfc-b9ad-4769-8c92-a6c4dae69d19",
    "_uuid": "8f2839f25d086af736a60e9eeb907d3b93b6e0e5",
    "papermill": {
     "duration": 0.008382,
     "end_time": "2023-01-21T07:10:02.391317",
     "exception": false,
     "start_time": "2023-01-21T07:10:02.382935",
     "status": "completed"
    },
    "tags": []
   },
   "source": [
    "\n"
   ]
  },
  {
   "cell_type": "markdown",
   "id": "5ae6c231",
   "metadata": {
    "papermill": {
     "duration": 0.007125,
     "end_time": "2023-01-21T07:10:02.405038",
     "exception": false,
     "start_time": "2023-01-21T07:10:02.397913",
     "status": "completed"
    },
    "tags": []
   },
   "source": [
    "## Sales prediction based on the amount spend on advertisement"
   ]
  },
  {
   "cell_type": "code",
   "execution_count": 1,
   "id": "1278ad09",
   "metadata": {
    "execution": {
     "iopub.execute_input": "2023-01-21T07:10:02.420246Z",
     "iopub.status.busy": "2023-01-21T07:10:02.419754Z",
     "iopub.status.idle": "2023-01-21T07:10:03.927857Z",
     "shell.execute_reply": "2023-01-21T07:10:03.926792Z"
    },
    "papermill": {
     "duration": 1.518906,
     "end_time": "2023-01-21T07:10:03.930661",
     "exception": false,
     "start_time": "2023-01-21T07:10:02.411755",
     "status": "completed"
    },
    "tags": []
   },
   "outputs": [],
   "source": [
    "# Import required libraries\n",
    "import numpy as np\n",
    "import pandas as pd\n",
    "import matplotlib.pyplot as plt\n",
    "import seaborn as sns\n",
    "\n",
    "from sklearn.model_selection import train_test_split\n",
    "from sklearn.linear_model import LinearRegression"
   ]
  },
  {
   "cell_type": "code",
   "execution_count": 2,
   "id": "63713e25",
   "metadata": {
    "execution": {
     "iopub.execute_input": "2023-01-21T07:10:03.945926Z",
     "iopub.status.busy": "2023-01-21T07:10:03.945475Z",
     "iopub.status.idle": "2023-01-21T07:10:03.979571Z",
     "shell.execute_reply": "2023-01-21T07:10:03.978292Z"
    },
    "papermill": {
     "duration": 0.045226,
     "end_time": "2023-01-21T07:10:03.982531",
     "exception": false,
     "start_time": "2023-01-21T07:10:03.937305",
     "status": "completed"
    },
    "tags": []
   },
   "outputs": [
    {
     "name": "stdout",
     "output_type": "stream",
     "text": [
      "Data imported successfully\n"
     ]
    }
   ],
   "source": [
    "# Import data\n",
    "\n",
    "df= pd.read_csv(\"/kaggle/input/advertisingcsv/Advertising.csv\", index_col=0)\n",
    "print(\"Data imported successfully\")"
   ]
  },
  {
   "cell_type": "code",
   "execution_count": 3,
   "id": "c08cc941",
   "metadata": {
    "execution": {
     "iopub.execute_input": "2023-01-21T07:10:03.998513Z",
     "iopub.status.busy": "2023-01-21T07:10:03.997736Z",
     "iopub.status.idle": "2023-01-21T07:10:04.019815Z",
     "shell.execute_reply": "2023-01-21T07:10:04.018456Z"
    },
    "papermill": {
     "duration": 0.033523,
     "end_time": "2023-01-21T07:10:04.022581",
     "exception": false,
     "start_time": "2023-01-21T07:10:03.989058",
     "status": "completed"
    },
    "tags": []
   },
   "outputs": [
    {
     "data": {
      "text/html": [
       "<div>\n",
       "<style scoped>\n",
       "    .dataframe tbody tr th:only-of-type {\n",
       "        vertical-align: middle;\n",
       "    }\n",
       "\n",
       "    .dataframe tbody tr th {\n",
       "        vertical-align: top;\n",
       "    }\n",
       "\n",
       "    .dataframe thead th {\n",
       "        text-align: right;\n",
       "    }\n",
       "</style>\n",
       "<table border=\"1\" class=\"dataframe\">\n",
       "  <thead>\n",
       "    <tr style=\"text-align: right;\">\n",
       "      <th></th>\n",
       "      <th>TV</th>\n",
       "      <th>Radio</th>\n",
       "      <th>Newspaper</th>\n",
       "      <th>Sales</th>\n",
       "    </tr>\n",
       "  </thead>\n",
       "  <tbody>\n",
       "    <tr>\n",
       "      <th>1</th>\n",
       "      <td>230.1</td>\n",
       "      <td>37.8</td>\n",
       "      <td>69.2</td>\n",
       "      <td>22.1</td>\n",
       "    </tr>\n",
       "    <tr>\n",
       "      <th>2</th>\n",
       "      <td>44.5</td>\n",
       "      <td>39.3</td>\n",
       "      <td>45.1</td>\n",
       "      <td>10.4</td>\n",
       "    </tr>\n",
       "    <tr>\n",
       "      <th>3</th>\n",
       "      <td>17.2</td>\n",
       "      <td>45.9</td>\n",
       "      <td>69.3</td>\n",
       "      <td>9.3</td>\n",
       "    </tr>\n",
       "    <tr>\n",
       "      <th>4</th>\n",
       "      <td>151.5</td>\n",
       "      <td>41.3</td>\n",
       "      <td>58.5</td>\n",
       "      <td>18.5</td>\n",
       "    </tr>\n",
       "    <tr>\n",
       "      <th>5</th>\n",
       "      <td>180.8</td>\n",
       "      <td>10.8</td>\n",
       "      <td>58.4</td>\n",
       "      <td>12.9</td>\n",
       "    </tr>\n",
       "  </tbody>\n",
       "</table>\n",
       "</div>"
      ],
      "text/plain": [
       "      TV  Radio  Newspaper  Sales\n",
       "1  230.1   37.8       69.2   22.1\n",
       "2   44.5   39.3       45.1   10.4\n",
       "3   17.2   45.9       69.3    9.3\n",
       "4  151.5   41.3       58.5   18.5\n",
       "5  180.8   10.8       58.4   12.9"
      ]
     },
     "execution_count": 3,
     "metadata": {},
     "output_type": "execute_result"
    }
   ],
   "source": [
    "# Print first five rows\n",
    "df.head()"
   ]
  },
  {
   "cell_type": "code",
   "execution_count": 4,
   "id": "a8e44ae0",
   "metadata": {
    "execution": {
     "iopub.execute_input": "2023-01-21T07:10:04.037837Z",
     "iopub.status.busy": "2023-01-21T07:10:04.037425Z",
     "iopub.status.idle": "2023-01-21T07:10:04.044585Z",
     "shell.execute_reply": "2023-01-21T07:10:04.043267Z"
    },
    "papermill": {
     "duration": 0.018135,
     "end_time": "2023-01-21T07:10:04.047447",
     "exception": false,
     "start_time": "2023-01-21T07:10:04.029312",
     "status": "completed"
    },
    "tags": []
   },
   "outputs": [
    {
     "data": {
      "text/plain": [
       "(200, 4)"
      ]
     },
     "execution_count": 4,
     "metadata": {},
     "output_type": "execute_result"
    }
   ],
   "source": [
    "# no. of rows and columns\n",
    "df.shape"
   ]
  },
  {
   "cell_type": "code",
   "execution_count": 5,
   "id": "3f60a175",
   "metadata": {
    "execution": {
     "iopub.execute_input": "2023-01-21T07:10:04.063584Z",
     "iopub.status.busy": "2023-01-21T07:10:04.063131Z",
     "iopub.status.idle": "2023-01-21T07:10:04.081978Z",
     "shell.execute_reply": "2023-01-21T07:10:04.080621Z"
    },
    "papermill": {
     "duration": 0.029959,
     "end_time": "2023-01-21T07:10:04.084457",
     "exception": false,
     "start_time": "2023-01-21T07:10:04.054498",
     "status": "completed"
    },
    "tags": []
   },
   "outputs": [
    {
     "name": "stdout",
     "output_type": "stream",
     "text": [
      "<class 'pandas.core.frame.DataFrame'>\n",
      "Int64Index: 200 entries, 1 to 200\n",
      "Data columns (total 4 columns):\n",
      " #   Column     Non-Null Count  Dtype  \n",
      "---  ------     --------------  -----  \n",
      " 0   TV         200 non-null    float64\n",
      " 1   Radio      200 non-null    float64\n",
      " 2   Newspaper  200 non-null    float64\n",
      " 3   Sales      200 non-null    float64\n",
      "dtypes: float64(4)\n",
      "memory usage: 7.8 KB\n"
     ]
    }
   ],
   "source": [
    "df.info()"
   ]
  },
  {
   "cell_type": "code",
   "execution_count": 6,
   "id": "4778b5b6",
   "metadata": {
    "execution": {
     "iopub.execute_input": "2023-01-21T07:10:04.102072Z",
     "iopub.status.busy": "2023-01-21T07:10:04.101103Z",
     "iopub.status.idle": "2023-01-21T07:10:04.129029Z",
     "shell.execute_reply": "2023-01-21T07:10:04.127901Z"
    },
    "papermill": {
     "duration": 0.040174,
     "end_time": "2023-01-21T07:10:04.131526",
     "exception": false,
     "start_time": "2023-01-21T07:10:04.091352",
     "status": "completed"
    },
    "tags": []
   },
   "outputs": [
    {
     "data": {
      "text/html": [
       "<div>\n",
       "<style scoped>\n",
       "    .dataframe tbody tr th:only-of-type {\n",
       "        vertical-align: middle;\n",
       "    }\n",
       "\n",
       "    .dataframe tbody tr th {\n",
       "        vertical-align: top;\n",
       "    }\n",
       "\n",
       "    .dataframe thead th {\n",
       "        text-align: right;\n",
       "    }\n",
       "</style>\n",
       "<table border=\"1\" class=\"dataframe\">\n",
       "  <thead>\n",
       "    <tr style=\"text-align: right;\">\n",
       "      <th></th>\n",
       "      <th>TV</th>\n",
       "      <th>Radio</th>\n",
       "      <th>Newspaper</th>\n",
       "      <th>Sales</th>\n",
       "    </tr>\n",
       "  </thead>\n",
       "  <tbody>\n",
       "    <tr>\n",
       "      <th>count</th>\n",
       "      <td>200.000000</td>\n",
       "      <td>200.000000</td>\n",
       "      <td>200.000000</td>\n",
       "      <td>200.000000</td>\n",
       "    </tr>\n",
       "    <tr>\n",
       "      <th>mean</th>\n",
       "      <td>147.042500</td>\n",
       "      <td>23.264000</td>\n",
       "      <td>30.554000</td>\n",
       "      <td>14.022500</td>\n",
       "    </tr>\n",
       "    <tr>\n",
       "      <th>std</th>\n",
       "      <td>85.854236</td>\n",
       "      <td>14.846809</td>\n",
       "      <td>21.778621</td>\n",
       "      <td>5.217457</td>\n",
       "    </tr>\n",
       "    <tr>\n",
       "      <th>min</th>\n",
       "      <td>0.700000</td>\n",
       "      <td>0.000000</td>\n",
       "      <td>0.300000</td>\n",
       "      <td>1.600000</td>\n",
       "    </tr>\n",
       "    <tr>\n",
       "      <th>25%</th>\n",
       "      <td>74.375000</td>\n",
       "      <td>9.975000</td>\n",
       "      <td>12.750000</td>\n",
       "      <td>10.375000</td>\n",
       "    </tr>\n",
       "    <tr>\n",
       "      <th>50%</th>\n",
       "      <td>149.750000</td>\n",
       "      <td>22.900000</td>\n",
       "      <td>25.750000</td>\n",
       "      <td>12.900000</td>\n",
       "    </tr>\n",
       "    <tr>\n",
       "      <th>75%</th>\n",
       "      <td>218.825000</td>\n",
       "      <td>36.525000</td>\n",
       "      <td>45.100000</td>\n",
       "      <td>17.400000</td>\n",
       "    </tr>\n",
       "    <tr>\n",
       "      <th>max</th>\n",
       "      <td>296.400000</td>\n",
       "      <td>49.600000</td>\n",
       "      <td>114.000000</td>\n",
       "      <td>27.000000</td>\n",
       "    </tr>\n",
       "  </tbody>\n",
       "</table>\n",
       "</div>"
      ],
      "text/plain": [
       "               TV       Radio   Newspaper       Sales\n",
       "count  200.000000  200.000000  200.000000  200.000000\n",
       "mean   147.042500   23.264000   30.554000   14.022500\n",
       "std     85.854236   14.846809   21.778621    5.217457\n",
       "min      0.700000    0.000000    0.300000    1.600000\n",
       "25%     74.375000    9.975000   12.750000   10.375000\n",
       "50%    149.750000   22.900000   25.750000   12.900000\n",
       "75%    218.825000   36.525000   45.100000   17.400000\n",
       "max    296.400000   49.600000  114.000000   27.000000"
      ]
     },
     "execution_count": 6,
     "metadata": {},
     "output_type": "execute_result"
    }
   ],
   "source": [
    "df.describe()"
   ]
  },
  {
   "cell_type": "code",
   "execution_count": 7,
   "id": "952bdd28",
   "metadata": {
    "execution": {
     "iopub.execute_input": "2023-01-21T07:10:04.147598Z",
     "iopub.status.busy": "2023-01-21T07:10:04.147171Z",
     "iopub.status.idle": "2023-01-21T07:10:04.156500Z",
     "shell.execute_reply": "2023-01-21T07:10:04.155282Z"
    },
    "papermill": {
     "duration": 0.020351,
     "end_time": "2023-01-21T07:10:04.158996",
     "exception": false,
     "start_time": "2023-01-21T07:10:04.138645",
     "status": "completed"
    },
    "tags": []
   },
   "outputs": [
    {
     "name": "stdout",
     "output_type": "stream",
     "text": [
      "No. of duplicate rows is 0\n"
     ]
    }
   ],
   "source": [
    "print(\"No. of duplicate rows is\", df.duplicated().sum())"
   ]
  },
  {
   "cell_type": "markdown",
   "id": "57f85c3d",
   "metadata": {
    "papermill": {
     "duration": 0.007131,
     "end_time": "2023-01-21T07:10:04.173165",
     "exception": false,
     "start_time": "2023-01-21T07:10:04.166034",
     "status": "completed"
    },
    "tags": []
   },
   "source": [
    "### Correlations"
   ]
  },
  {
   "cell_type": "code",
   "execution_count": 8,
   "id": "b6008fc3",
   "metadata": {
    "execution": {
     "iopub.execute_input": "2023-01-21T07:10:04.190667Z",
     "iopub.status.busy": "2023-01-21T07:10:04.189724Z",
     "iopub.status.idle": "2023-01-21T07:10:04.205103Z",
     "shell.execute_reply": "2023-01-21T07:10:04.203974Z"
    },
    "papermill": {
     "duration": 0.026888,
     "end_time": "2023-01-21T07:10:04.207767",
     "exception": false,
     "start_time": "2023-01-21T07:10:04.180879",
     "status": "completed"
    },
    "tags": []
   },
   "outputs": [
    {
     "data": {
      "text/html": [
       "<div>\n",
       "<style scoped>\n",
       "    .dataframe tbody tr th:only-of-type {\n",
       "        vertical-align: middle;\n",
       "    }\n",
       "\n",
       "    .dataframe tbody tr th {\n",
       "        vertical-align: top;\n",
       "    }\n",
       "\n",
       "    .dataframe thead th {\n",
       "        text-align: right;\n",
       "    }\n",
       "</style>\n",
       "<table border=\"1\" class=\"dataframe\">\n",
       "  <thead>\n",
       "    <tr style=\"text-align: right;\">\n",
       "      <th></th>\n",
       "      <th>TV</th>\n",
       "      <th>Radio</th>\n",
       "      <th>Newspaper</th>\n",
       "      <th>Sales</th>\n",
       "    </tr>\n",
       "  </thead>\n",
       "  <tbody>\n",
       "    <tr>\n",
       "      <th>TV</th>\n",
       "      <td>1.000000</td>\n",
       "      <td>0.054809</td>\n",
       "      <td>0.056648</td>\n",
       "      <td>0.782224</td>\n",
       "    </tr>\n",
       "    <tr>\n",
       "      <th>Radio</th>\n",
       "      <td>0.054809</td>\n",
       "      <td>1.000000</td>\n",
       "      <td>0.354104</td>\n",
       "      <td>0.576223</td>\n",
       "    </tr>\n",
       "    <tr>\n",
       "      <th>Newspaper</th>\n",
       "      <td>0.056648</td>\n",
       "      <td>0.354104</td>\n",
       "      <td>1.000000</td>\n",
       "      <td>0.228299</td>\n",
       "    </tr>\n",
       "    <tr>\n",
       "      <th>Sales</th>\n",
       "      <td>0.782224</td>\n",
       "      <td>0.576223</td>\n",
       "      <td>0.228299</td>\n",
       "      <td>1.000000</td>\n",
       "    </tr>\n",
       "  </tbody>\n",
       "</table>\n",
       "</div>"
      ],
      "text/plain": [
       "                 TV     Radio  Newspaper     Sales\n",
       "TV         1.000000  0.054809   0.056648  0.782224\n",
       "Radio      0.054809  1.000000   0.354104  0.576223\n",
       "Newspaper  0.056648  0.354104   1.000000  0.228299\n",
       "Sales      0.782224  0.576223   0.228299  1.000000"
      ]
     },
     "execution_count": 8,
     "metadata": {},
     "output_type": "execute_result"
    }
   ],
   "source": [
    "df.corr()"
   ]
  },
  {
   "cell_type": "code",
   "execution_count": 9,
   "id": "42e99e0e",
   "metadata": {
    "execution": {
     "iopub.execute_input": "2023-01-21T07:10:04.224124Z",
     "iopub.status.busy": "2023-01-21T07:10:04.223721Z",
     "iopub.status.idle": "2023-01-21T07:10:04.560485Z",
     "shell.execute_reply": "2023-01-21T07:10:04.559263Z"
    },
    "papermill": {
     "duration": 0.347713,
     "end_time": "2023-01-21T07:10:04.562967",
     "exception": false,
     "start_time": "2023-01-21T07:10:04.215254",
     "status": "completed"
    },
    "tags": []
   },
   "outputs": [
    {
     "data": {
      "text/plain": [
       "<AxesSubplot:>"
      ]
     },
     "execution_count": 9,
     "metadata": {},
     "output_type": "execute_result"
    },
    {
     "data": {
      "image/png": "[encoded data removed]",
      "text/plain": [
       "<Figure size 432x288 with 2 Axes>"
      ]
     },
     "metadata": {
      "needs_background": "light"
     },
     "output_type": "display_data"
    }
   ],
   "source": [
    "sns.heatmap(df.corr(), annot=True, fmt=\".2f\")"
   ]
  },
  {
   "cell_type": "markdown",
   "id": "d9b58be0",
   "metadata": {
    "papermill": {
     "duration": 0.008023,
     "end_time": "2023-01-21T07:10:04.578876",
     "exception": false,
     "start_time": "2023-01-21T07:10:04.570853",
     "status": "completed"
    },
    "tags": []
   },
   "source": [
    "#### Sales is highly collerated with \"TV\" advertisement and have moderate and low correlation with \"Radio\" and \"Newspaper\" repectively"
   ]
  },
  {
   "cell_type": "code",
   "execution_count": 10,
   "id": "dbd84448",
   "metadata": {
    "execution": {
     "iopub.execute_input": "2023-01-21T07:10:04.598227Z",
     "iopub.status.busy": "2023-01-21T07:10:04.597780Z",
     "iopub.status.idle": "2023-01-21T07:10:07.516543Z",
     "shell.execute_reply": "2023-01-21T07:10:07.515241Z"
    },
    "papermill": {
     "duration": 2.931959,
     "end_time": "2023-01-21T07:10:07.519786",
     "exception": false,
     "start_time": "2023-01-21T07:10:04.587827",
     "status": "completed"
    },
    "tags": []
   },
   "outputs": [
    {
     "data": {
      "image/png": "[encoded data removed]",
      "text/plain": [
       "<Figure size 720x720 with 14 Axes>"
      ]
     },
     "metadata": {
      "needs_background": "light"
     },
     "output_type": "display_data"
    }
   ],
   "source": [
    "sns.pairplot(df, kind=\"reg\",corner=True, );"
   ]
  },
  {
   "cell_type": "markdown",
   "id": "8a8c5a49",
   "metadata": {
    "papermill": {
     "duration": 0.009346,
     "end_time": "2023-01-21T07:10:07.539800",
     "exception": false,
     "start_time": "2023-01-21T07:10:07.530454",
     "status": "completed"
    },
    "tags": []
   },
   "source": [
    "### Data preparation "
   ]
  },
  {
   "cell_type": "code",
   "execution_count": 11,
   "id": "f0bac887",
   "metadata": {
    "execution": {
     "iopub.execute_input": "2023-01-21T07:10:07.560085Z",
     "iopub.status.busy": "2023-01-21T07:10:07.559442Z",
     "iopub.status.idle": "2023-01-21T07:10:07.566164Z",
     "shell.execute_reply": "2023-01-21T07:10:07.564935Z"
    },
    "papermill": {
     "duration": 0.019601,
     "end_time": "2023-01-21T07:10:07.568518",
     "exception": false,
     "start_time": "2023-01-21T07:10:07.548917",
     "status": "completed"
    },
    "tags": []
   },
   "outputs": [],
   "source": [
    "# Seperate data into features and labels\n",
    "X=df.iloc[:,:-1]\n",
    "y=df.iloc[:,-1]"
   ]
  },
  {
   "cell_type": "code",
   "execution_count": 12,
   "id": "95b29944",
   "metadata": {
    "execution": {
     "iopub.execute_input": "2023-01-21T07:10:07.589173Z",
     "iopub.status.busy": "2023-01-21T07:10:07.588335Z",
     "iopub.status.idle": "2023-01-21T07:10:07.597461Z",
     "shell.execute_reply": "2023-01-21T07:10:07.595726Z"
    },
    "papermill": {
     "duration": 0.022378,
     "end_time": "2023-01-21T07:10:07.600152",
     "exception": false,
     "start_time": "2023-01-21T07:10:07.577774",
     "status": "completed"
    },
    "tags": []
   },
   "outputs": [
    {
     "name": "stdout",
     "output_type": "stream",
     "text": [
      "Shape of X_train (160, 3)\n",
      "Shape of y_train (160,)\n"
     ]
    }
   ],
   "source": [
    "# Split data for training and testing\n",
    "X_train, X_test, y_train, y_test =train_test_split(X, y, test_size=0.2, random_state=45)\n",
    "print(\"Shape of X_train\", X_train.shape)\n",
    "print(\"Shape of y_train\", y_train.shape)"
   ]
  },
  {
   "cell_type": "markdown",
   "id": "cb89f653",
   "metadata": {
    "papermill": {
     "duration": 0.008901,
     "end_time": "2023-01-21T07:10:07.618331",
     "exception": false,
     "start_time": "2023-01-21T07:10:07.609430",
     "status": "completed"
    },
    "tags": []
   },
   "source": [
    "### Multiple Linear Regression\n",
    "\n",
    "##### Create model with all three features"
   ]
  },
  {
   "cell_type": "code",
   "execution_count": 13,
   "id": "558ece83",
   "metadata": {
    "execution": {
     "iopub.execute_input": "2023-01-21T07:10:07.638345Z",
     "iopub.status.busy": "2023-01-21T07:10:07.637832Z",
     "iopub.status.idle": "2023-01-21T07:10:07.643313Z",
     "shell.execute_reply": "2023-01-21T07:10:07.641924Z"
    },
    "papermill": {
     "duration": 0.018291,
     "end_time": "2023-01-21T07:10:07.645740",
     "exception": false,
     "start_time": "2023-01-21T07:10:07.627449",
     "status": "completed"
    },
    "tags": []
   },
   "outputs": [],
   "source": [
    "# Create regressor for Multiple Regression\n",
    "mul_reg= LinearRegression()"
   ]
  },
  {
   "cell_type": "code",
   "execution_count": 14,
   "id": "b77a348f",
   "metadata": {
    "execution": {
     "iopub.execute_input": "2023-01-21T07:10:07.666810Z",
     "iopub.status.busy": "2023-01-21T07:10:07.666020Z",
     "iopub.status.idle": "2023-01-21T07:10:07.694502Z",
     "shell.execute_reply": "2023-01-21T07:10:07.693519Z"
    },
    "papermill": {
     "duration": 0.041795,
     "end_time": "2023-01-21T07:10:07.696848",
     "exception": false,
     "start_time": "2023-01-21T07:10:07.655053",
     "status": "completed"
    },
    "tags": []
   },
   "outputs": [
    {
     "data": {
      "text/plain": [
       "LinearRegression()"
      ]
     },
     "execution_count": 14,
     "metadata": {},
     "output_type": "execute_result"
    }
   ],
   "source": [
    "# fit the train data in the model\n",
    "mul_reg.fit(X_train, y_train)"
   ]
  },
  {
   "cell_type": "markdown",
   "id": "c0945da1",
   "metadata": {
    "papermill": {
     "duration": 0.008918,
     "end_time": "2023-01-21T07:10:07.715062",
     "exception": false,
     "start_time": "2023-01-21T07:10:07.706144",
     "status": "completed"
    },
    "tags": []
   },
   "source": [
    "### Test the model"
   ]
  },
  {
   "cell_type": "code",
   "execution_count": 15,
   "id": "5f3efa5d",
   "metadata": {
    "execution": {
     "iopub.execute_input": "2023-01-21T07:10:07.736133Z",
     "iopub.status.busy": "2023-01-21T07:10:07.735365Z",
     "iopub.status.idle": "2023-01-21T07:10:07.741790Z",
     "shell.execute_reply": "2023-01-21T07:10:07.740806Z"
    },
    "papermill": {
     "duration": 0.019765,
     "end_time": "2023-01-21T07:10:07.744346",
     "exception": false,
     "start_time": "2023-01-21T07:10:07.724581",
     "status": "completed"
    },
    "tags": []
   },
   "outputs": [],
   "source": [
    "# predict sales for test data\n",
    "pred = mul_reg.predict(X_test)"
   ]
  },
  {
   "cell_type": "code",
   "execution_count": 16,
   "id": "4121d423",
   "metadata": {
    "execution": {
     "iopub.execute_input": "2023-01-21T07:10:07.766030Z",
     "iopub.status.busy": "2023-01-21T07:10:07.765251Z",
     "iopub.status.idle": "2023-01-21T07:10:07.777393Z",
     "shell.execute_reply": "2023-01-21T07:10:07.776296Z"
    },
    "papermill": {
     "duration": 0.025822,
     "end_time": "2023-01-21T07:10:07.779921",
     "exception": false,
     "start_time": "2023-01-21T07:10:07.754099",
     "status": "completed"
    },
    "tags": []
   },
   "outputs": [
    {
     "data": {
      "text/html": [
       "<div>\n",
       "<style scoped>\n",
       "    .dataframe tbody tr th:only-of-type {\n",
       "        vertical-align: middle;\n",
       "    }\n",
       "\n",
       "    .dataframe tbody tr th {\n",
       "        vertical-align: top;\n",
       "    }\n",
       "\n",
       "    .dataframe thead th {\n",
       "        text-align: right;\n",
       "    }\n",
       "</style>\n",
       "<table border=\"1\" class=\"dataframe\">\n",
       "  <thead>\n",
       "    <tr style=\"text-align: right;\">\n",
       "      <th></th>\n",
       "      <th>y_test</th>\n",
       "      <th>pred</th>\n",
       "    </tr>\n",
       "  </thead>\n",
       "  <tbody>\n",
       "    <tr>\n",
       "      <th>0</th>\n",
       "      <td>14.9</td>\n",
       "      <td>15.188873</td>\n",
       "    </tr>\n",
       "    <tr>\n",
       "      <th>1</th>\n",
       "      <td>8.8</td>\n",
       "      <td>10.205411</td>\n",
       "    </tr>\n",
       "    <tr>\n",
       "      <th>2</th>\n",
       "      <td>16.6</td>\n",
       "      <td>16.439320</td>\n",
       "    </tr>\n",
       "    <tr>\n",
       "      <th>3</th>\n",
       "      <td>23.8</td>\n",
       "      <td>21.808189</td>\n",
       "    </tr>\n",
       "    <tr>\n",
       "      <th>4</th>\n",
       "      <td>12.0</td>\n",
       "      <td>15.887521</td>\n",
       "    </tr>\n",
       "  </tbody>\n",
       "</table>\n",
       "</div>"
      ],
      "text/plain": [
       "   y_test       pred\n",
       "0    14.9  15.188873\n",
       "1     8.8  10.205411\n",
       "2    16.6  16.439320\n",
       "3    23.8  21.808189\n",
       "4    12.0  15.887521"
      ]
     },
     "execution_count": 16,
     "metadata": {},
     "output_type": "execute_result"
    }
   ],
   "source": [
    "# compare actual sales to predicted sales\n",
    "compare= pd.DataFrame({\"y_test\":list(y_test), \"pred\":list(pred)})\n",
    "compare.head()"
   ]
  },
  {
   "cell_type": "code",
   "execution_count": 17,
   "id": "ff0e57c9",
   "metadata": {
    "execution": {
     "iopub.execute_input": "2023-01-21T07:10:07.801862Z",
     "iopub.status.busy": "2023-01-21T07:10:07.801069Z",
     "iopub.status.idle": "2023-01-21T07:10:08.024508Z",
     "shell.execute_reply": "2023-01-21T07:10:08.022964Z"
    },
    "papermill": {
     "duration": 0.237916,
     "end_time": "2023-01-21T07:10:08.027525",
     "exception": false,
     "start_time": "2023-01-21T07:10:07.789609",
     "status": "completed"
    },
    "tags": []
   },
   "outputs": [
    {
     "data": {
      "text/plain": [
       "<matplotlib.collections.PathCollection at 0x7fe4f0b2e750>"
      ]
     },
     "execution_count": 17,
     "metadata": {},
     "output_type": "execute_result"
    },
    {
     "data": {
      "image/png": "[encoded data removed]",
      "text/plain": [
       "<Figure size 432x288 with 1 Axes>"
      ]
     },
     "metadata": {
      "needs_background": "light"
     },
     "output_type": "display_data"
    }
   ],
   "source": [
    "# plot of the comparison\n",
    "plt.scatter(y_test, pred)"
   ]
  },
  {
   "cell_type": "markdown",
   "id": "074f6995",
   "metadata": {
    "papermill": {
     "duration": 0.00976,
     "end_time": "2023-01-21T07:10:08.047692",
     "exception": false,
     "start_time": "2023-01-21T07:10:08.037932",
     "status": "completed"
    },
    "tags": []
   },
   "source": [
    "### Model Evaluation"
   ]
  },
  {
   "cell_type": "code",
   "execution_count": 18,
   "id": "55496bff",
   "metadata": {
    "execution": {
     "iopub.execute_input": "2023-01-21T07:10:08.070537Z",
     "iopub.status.busy": "2023-01-21T07:10:08.070089Z",
     "iopub.status.idle": "2023-01-21T07:10:08.080023Z",
     "shell.execute_reply": "2023-01-21T07:10:08.078660Z"
    },
    "papermill": {
     "duration": 0.025195,
     "end_time": "2023-01-21T07:10:08.083024",
     "exception": false,
     "start_time": "2023-01-21T07:10:08.057829",
     "status": "completed"
    },
    "tags": []
   },
   "outputs": [
    {
     "name": "stdout",
     "output_type": "stream",
     "text": [
      "Mean Absolute error:1.0788802763848646\n",
      "Mean Squared error: 1.5021631892976657\n",
      "R2 Score:0.8955882331233612\n"
     ]
    }
   ],
   "source": [
    "from sklearn import metrics\n",
    "\n",
    "MAE = metrics.mean_absolute_error(y_test, pred)\n",
    "print(\"Mean Absolute error:{}\".format(MAE))\n",
    "\n",
    "MSE = metrics.mean_squared_error(y_test, pred)\n",
    "print('Mean Squared error: {}'.format(np.sqrt(MSE)))\n",
    "\n",
    "R2 = metrics.r2_score(y_test, pred)\n",
    "print(\"R2 Score:{}\".format(R2))\n"
   ]
  },
  {
   "cell_type": "markdown",
   "id": "5bd42359",
   "metadata": {
    "papermill": {
     "duration": 0.009741,
     "end_time": "2023-01-21T07:10:08.103943",
     "exception": false,
     "start_time": "2023-01-21T07:10:08.094202",
     "status": "completed"
    },
    "tags": []
   },
   "source": [
    "#### Thankyou"
   ]
  }
 ],
 "metadata": {
  "kernelspec": {
   "display_name": "Python 3",
   "language": "python",
   "name": "python3"
  },
  "language_info": {
   "codemirror_mode": {
    "name": "ipython",
    "version": 3
   },
   "file_extension": ".py",
   "mimetype": "text/x-python",
   "name": "python",
   "nbconvert_exporter": "python",
   "pygments_lexer": "ipython3",
   "version": "3.7.12"
  },
  "papermill": {
   "default_parameters": {},
   "duration": 15.628939,
   "end_time": "2023-01-21T07:10:08.937738",
   "environment_variables": {},
   "exception": null,
   "input_path": "__notebook__.ipynb",
   "output_path": "__notebook__.ipynb",
   "parameters": {},
   "start_time": "2023-01-21T07:09:53.308799",
   "version": "2.3.4"
  }
 },
 "nbformat": 4,
 "nbformat_minor": 5
}
